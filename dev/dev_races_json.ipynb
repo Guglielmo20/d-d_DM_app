{
 "cells": [
  {
   "cell_type": "code",
   "execution_count": 1,
   "metadata": {},
   "outputs": [],
   "source": [
    "import sys\n",
    "import json\n",
    "import os\n",
    "from pprint import pprint\n",
    "\n",
    "sys.path.append(['./..', './../..'])\n",
    "cwd = os.getcwd()"
   ]
  },
  {
   "cell_type": "markdown",
   "metadata": {},
   "source": [
    "### Reference\n",
    "\n",
    "See here for reference: \n",
    "- https://dungeonsdragons.fandom.com/wiki/List_of_Dungeons_%26_Dragons_5th_edition_character_classes#Subclasses\n",
    "- https://github.com/5e-bits/5e-database/blob/main/src/5e-SRD-Classes.json\n",
    "- resource: https://5e-bits.github.io/docs/introduction"
   ]
  },
  {
   "cell_type": "code",
   "execution_count": 2,
   "metadata": {},
   "outputs": [],
   "source": [
    "with open(os.path.abspath(os.path.join(cwd, './..', './res/5e-SRD-Races.json'))) as f:\n",
    "    races_db = json.load(f)"
   ]
  },
  {
   "cell_type": "code",
   "execution_count": 3,
   "metadata": {},
   "outputs": [
    {
     "name": "stdout",
     "output_type": "stream",
     "text": [
      "- Race:  dwarf\n",
      "- Race:  elf\n",
      "- Race:  halfling\n",
      "- Race:  human\n",
      "- Race:  dragonborn\n",
      "- Race:  gnome\n",
      "- Race:  half-elf\n",
      "- Race:  half-orc\n",
      "- Race:  tiefling\n"
     ]
    }
   ],
   "source": [
    "for elem in races_db:\n",
    "    print('- Race: ', elem['index'])\n",
    "    # for subkey, subvalue in elem.items():\n",
    "    #     if subkey == 'subraces':\n",
    "    #         print('--- Subrace: ', subvalue)"
   ]
  },
  {
   "cell_type": "markdown",
   "metadata": {},
   "source": [
    "### Races"
   ]
  },
  {
   "cell_type": "code",
   "execution_count": 4,
   "metadata": {},
   "outputs": [],
   "source": [
    "my_race_db = {'Dwarf': {'subrace': ['Hill-Dwarf', 'Mountain-Dwarf']},\n",
    "              'Elf': {'subrace': ['High-Elf', 'Wood-Elf', 'Dark-Elf']},\n",
    "              'Halfling': {'subrace': ['Lightfoot-Halfling', 'Stout-Halfling']},\n",
    "              'Human': {'subrace': ['-']},\n",
    "              'Dragonborn': {'subrace': ['-']},\n",
    "              'Gnome': {'subrace': ['Rock-Gnome', 'Forest-Gnome']},\n",
    "              'Half-Elf': {'subrace': ['-']},\n",
    "              'Half-Orc': {'subrace': ['-']},\n",
    "              'Tiefling': {'subrace': ['-']}\n",
    "              }"
   ]
  },
  {
   "cell_type": "code",
   "execution_count": 5,
   "metadata": {},
   "outputs": [],
   "source": [
    "with open(\"races_subraces.json\", \"w\") as outfile:\n",
    "    json.dump(my_race_db, outfile, indent=4)"
   ]
  },
  {
   "cell_type": "markdown",
   "metadata": {},
   "source": [
    "### Classes"
   ]
  },
  {
   "cell_type": "code",
   "execution_count": 6,
   "metadata": {},
   "outputs": [],
   "source": [
    "my_class_db = {'Artificier': {'subclass': ['Alchemist', \n",
    "                                           'Armorer', \n",
    "                                           'Artillerist', \n",
    "                                           'Battle Smith']},\n",
    "               'Barbarian': {'subclass': ['Path of the Berseker', \n",
    "                                          'Path of the Totem Warrior']},\n",
    "               'Bard': {'subclass': ['College of Lore', \n",
    "                                     'College of Valor']},\n",
    "               'Cleric': {'subclass': ['Knowledge Domain',\n",
    "                                       'Life Domain',\n",
    "                                       'Light Domain',\n",
    "                                       'Nature Domain',\n",
    "                                       'Tempest Domain',\n",
    "                                       'Trickery Domain',\n",
    "                                       'War Domain']},\n",
    "               'Druid': {'subclass': ['Circle of the Land',\n",
    "                                      'Circle of the Moon']},\n",
    "               'Fighter': {'subclass': ['Champion', \n",
    "                                        'Battle Master',\n",
    "                                        'Eldritch Knight']},\n",
    "               'Monk': {'subclass': ['Way of the Open Hand', \n",
    "                                     'Way of Shadow',\n",
    "                                     'Way of the Four Elements']},\n",
    "               'Paladin': {'subclass': ['Oath of Devotion',\n",
    "                                        'Oath of the Ancients',\n",
    "                                        'Oath of Vengeance']},\n",
    "               'Ranger': {'subclass': ['Hunter',\n",
    "                                       'Beast Master']},\n",
    "               'Rogue': {'subclass': ['Thief',\n",
    "                                      'Assassin',\n",
    "                                      'Arcane Trickster']},\n",
    "               'Sorcerer': {'subclass': ['Draconic Bloodline',\n",
    "                                         'Wild Magic']},\n",
    "               'Warlock': {'subclass': ['The Archfey',\n",
    "                                        'The Fiend',\n",
    "                                        'The Great Old One']},\n",
    "               'Wizard': {'subclass': ['School of Abjuration',\n",
    "                                       'School of Conjuration',\n",
    "                                       'School of Divination',\n",
    "                                       'School of Enchantment',\n",
    "                                       'School of Evocation',\n",
    "                                       'School of Illusion',\n",
    "                                       'School of Necromancy',\n",
    "                                       'School of Transmutation']}\n",
    "              }"
   ]
  },
  {
   "cell_type": "code",
   "execution_count": 7,
   "metadata": {},
   "outputs": [],
   "source": [
    "with open(\"classes_subclasses.json\", \"w\") as outfile:\n",
    "    json.dump(my_class_db, outfile, indent = 4)"
   ]
  }
 ],
 "metadata": {
  "kernelspec": {
   "display_name": "Python 3",
   "language": "python",
   "name": "python3"
  },
  "language_info": {
   "codemirror_mode": {
    "name": "ipython",
    "version": 3
   },
   "file_extension": ".py",
   "mimetype": "text/x-python",
   "name": "python",
   "nbconvert_exporter": "python",
   "pygments_lexer": "ipython3",
   "version": "3.12.0"
  }
 },
 "nbformat": 4,
 "nbformat_minor": 2
}
